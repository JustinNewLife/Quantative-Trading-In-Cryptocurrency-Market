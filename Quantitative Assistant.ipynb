{
 "cells": [
  {
   "cell_type": "markdown",
   "id": "16f75afc",
   "metadata": {},
   "source": [
    "# 记住我们都会错，最重要的是要知道什么是对错，不要怕犯错，及时改正错误，不要被情绪干扰。\n"
   ]
  },
  {
   "cell_type": "markdown",
   "id": "2c9e7805",
   "metadata": {},
   "source": [
    "# 在买卖点应当观察主要货币的成交量和涨幅匹配程度\n",
    "# 记得涨的时候容易涨的激进，跌的时候容易跌的激进。但是涨的时候不太容易跌的很激进，跌的时候也不容易涨的很激进。\n",
    "# 买卖点的时候应做计划，应当分批，应当每个案对待。¶\n",
    "# 不要杠杆，容易有最差的情况会出现的心态\n",
    "# 应当有设置止损线和止盈线\n",
    "# 细节处理很重要，要实现分批，多维度。要实现移动止损。要看信号。\n",
    "# 要看均线，要看实时状态，要记住错了怎么办\n",
    "# 降低了风险就是在降低机会，要学会适应风险，学会认错"
   ]
  },
  {
   "cell_type": "markdown",
   "id": "1fda6ab9",
   "metadata": {},
   "source": [
    "# 采用三种方法，来确定量化交易\n",
    "# 1，利用均线系统来确定动量与风险\n",
    "\n",
    "# 2， 利用追踪止损来确定止损位置\n",
    "\n",
    "# 3， 利用Prophet 来确定周期和幅度"
   ]
  },
  {
   "cell_type": "code",
   "execution_count": 1,
   "id": "c2196395",
   "metadata": {},
   "outputs": [],
   "source": [
    "import sys \n",
    "import pandas as pd\n",
    "import warnings\n",
    "warnings.filterwarnings(\"ignore\")\n",
    "import os\n",
    "sys.path.append(\"D:\\工作\\QuantRobot\")\n",
    "from UserInterfer.IntegrateTools.feature_engineer import CommonFeature\n",
    "from config import Config"
   ]
  },
  {
   "cell_type": "code",
   "execution_count": null,
   "id": "74e6a5f5",
   "metadata": {},
   "outputs": [],
   "source": [
    "import matplotlib.pyplot as plt\n",
    "path = os.path.join(Config.base_dir, 'spot')\n",
    "plt.rcParams['font.sans-serif']=['SimHei'] #用来正常显示中文标签\n",
    "plt.rcParams['axes.unicode_minus']=False #用来正常显示负号\n",
    "reverse_df = CommonFeature(path, Greed=False, Rm=True, reverse=True)\n",
    "norm_df = CommonFeature(path, Greed=False, Rm=True, reverse=False)\n",
    "fig, ax1 = plt.subplots( figsize=(20,12))\n",
    "plt.title('市场指数变化情况')\n",
    "ax2 = ax1.twinx()\n",
    "ax1.plot(reverse_df.index, reverse_df['market_index'],label='reverse')\n",
    "ax1.set_ylabel('reverse')\n",
    "ax2.plot(norm_df.index, norm_df['market_index'],color='red',label='norm')\n",
    "ax2.set_ylabel('norm')\n",
    "plt.legend()\n",
    "plt.show()"
   ]
  },
  {
   "cell_type": "markdown",
   "id": "8434de5b",
   "metadata": {},
   "source": [
    "# 1， 首先看指数与均线的关系，均线是重要的参照对线，虽然有时候会被穿透。但是均线往往是可靠的支撑或压力。"
   ]
  },
  {
   "cell_type": "code",
   "execution_count": null,
   "id": "f26b4afe",
   "metadata": {},
   "outputs": [],
   "source": [
    "import talib\n",
    "import numpy as np\n",
    "# 需要检查的指数\n",
    "test_df = norm_df\n",
    "# 观察的周期\n",
    "period = 200\n",
    "# 示例数据\n",
    "close_prices = test_df['market_index']\n",
    "\n",
    "# 计算5日移动平均线\n",
    "average7= talib.SMA(close_prices, timeperiod=7)\n",
    "average21 = talib.SMA(close_prices, timeperiod=21)\n",
    "average63 = talib.SMA(close_prices, timeperiod=63)\n",
    "adjust_norm = (test_df['market_index']-average63)/average63\n",
    "adjust_7 = (average7-average63)/average63\n",
    "adjust_21 = (average21-average63)/average63\n",
    "\n",
    "plt.figure(figsize=(15, 10))\n",
    "plt.plot(adjust_norm[-period:],label='index')\n",
    "plt.plot(adjust_7[-period:],label='7days')\n",
    "plt.plot(adjust_21[-period:],label='21days')\n",
    "plt.plot(test_df.index[-period:], [0]*period)\n",
    "plt.legend()\n",
    "plt.show()\n"
   ]
  },
  {
   "cell_type": "markdown",
   "id": "876ddecb",
   "metadata": {},
   "source": [
    "# 2，观察指数追踪止损情况"
   ]
  },
  {
   "cell_type": "code",
   "execution_count": null,
   "id": "dcd79d91",
   "metadata": {},
   "outputs": [],
   "source": [
    "from FeatureEngineer.trailing_factor import trailing_atr_factor\n",
    "# 时间参数\n",
    "period = 100\n",
    "#波动倍率参数，不得小于1\n",
    "down, above = 1.2,1.3\n",
    "\n",
    "trailing_df =trailing_atr_factor(reverse_df, down, above, 'market_index')\n",
    "trailing_df[-period:].plot(y=['market_index','trailing'],figsize=(12,10))"
   ]
  },
  {
   "cell_type": "code",
   "execution_count": null,
   "id": "ab0a41e9",
   "metadata": {},
   "outputs": [],
   "source": [
    "# 观察具体数字\n",
    "norm_df.tail()"
   ]
  },
  {
   "cell_type": "markdown",
   "id": "dc947d8a",
   "metadata": {},
   "source": [
    "# 3，观察prophet对指数的预测情况"
   ]
  },
  {
   "cell_type": "code",
   "execution_count": null,
   "id": "9493a73b",
   "metadata": {},
   "outputs": [],
   "source": [
    "# test_index name\n",
    "test_index = reverse_df\n",
    "\n",
    "from prophet import Prophet\n",
    "test_index = test_index.reset_index()\n",
    "test_index = test_index.rename(columns={\"date\":'ds','market_index':\"y\"})\n",
    "test_index['ds'] = test_index['ds'].dt.tz_localize(None)\n",
    "# 指数预测\n",
    "model = Prophet(changepoint_prior_scale=0.05,\n",
    "                seasonality_mode='multiplicative',\n",
    "               )\n",
    "model.fit(test_index)\n",
    "future = model.make_future_dataframe(periods=150)\n",
    "forecast = model.predict(future)\n",
    "model.plot(forecast)"
   ]
  },
  {
   "cell_type": "markdown",
   "id": "0f353a4e",
   "metadata": {},
   "source": [
    "# 二、 观察具体tic的情况"
   ]
  },
  {
   "cell_type": "code",
   "execution_count": null,
   "id": "be76f12f",
   "metadata": {},
   "outputs": [],
   "source": [
    "# 载入所有的数据\n",
    "from DataManager.data_prepare import clean_datas\n",
    "path = os.path.join(Config.base_dir, 'spot')\n",
    "current_time = pd.Timestamp.now()\n",
    "# path = Config.base_dir\n",
    "df = pd.DataFrame()\n",
    "for file in os.listdir(path):\n",
    "#     print(os.path.join(path,file))\n",
    "    temp = pd.read_csv(os.path.join(path,file),index_col=0)\n",
    "    temp = clean_datas(temp)\n",
    "    temp['y'] = temp['close']  \n",
    "    temp['date'] = pd.to_datetime(temp['date'])\n",
    "    temp['date'] = temp['date'].dt.tz_localize(None)\n",
    "    if temp['date'].iloc[-1] + pd.Timedelta(days=1)< current_time:       \n",
    "        continue\n",
    "    temp['tic'] = file[:-4]\n",
    "    df = df.append(temp)\n",
    "df = df.rename({'date':\"ds\"},axis=1)\n",
    "\n"
   ]
  },
  {
   "cell_type": "code",
   "execution_count": null,
   "id": "237746b2",
   "metadata": {},
   "outputs": [],
   "source": [
    "# 需要观察的tic\n",
    "tic = 'ALDOGEUSDT'\n",
    "object_df = df[df['tic']==tic]\n",
    "# 观察的周期\n",
    "period = 800\n",
    "object_df = object_df.dropna()\n",
    "object_df"
   ]
  },
  {
   "cell_type": "markdown",
   "id": "0ba05569",
   "metadata": {},
   "source": [
    "# 1，单个股票的均线系统"
   ]
  },
  {
   "cell_type": "code",
   "execution_count": null,
   "id": "f6a39e41",
   "metadata": {},
   "outputs": [],
   "source": [
    "\n",
    "close_prices = object_df['y']\n",
    "# 计算5日移动平均线\n",
    "average7= talib.SMA(close_prices, timeperiod=7)\n",
    "average21 = talib.SMA(close_prices, timeperiod=21)\n",
    "average63 = talib.SMA(close_prices, timeperiod=63)\n",
    "adjust_norm = (object_df['y']-average63)/average63\n",
    "adjust_7 = (average7-average63)/average63\n",
    "adjust_21 = (average21-average63)/average63\n",
    "\n",
    "plt.figure(figsize=(15, 10))\n",
    "plt.plot(object_df['ds'][-period:],adjust_norm[-period:],label=tic)\n",
    "plt.plot(object_df['ds'][-period:],adjust_7[-period:],label='7days')\n",
    "plt.plot(object_df['ds'][-period:],adjust_21[-period:],label='21days')\n",
    "plt.plot( object_df['ds'][-period:],[0]*period)\n",
    "plt.legend()\n",
    "plt.show()"
   ]
  },
  {
   "cell_type": "markdown",
   "id": "6bffd726",
   "metadata": {},
   "source": [
    "# 2，单个的追踪止损系统"
   ]
  },
  {
   "cell_type": "code",
   "execution_count": null,
   "id": "f5aab9bf",
   "metadata": {},
   "outputs": [],
   "source": [
    "period = 100\n",
    "down, above = 1.2,1.3\n",
    "\n",
    "trailing_df =trailing_atr_factor(object_df, down, above, 'y')\n",
    "trailing_df[-period:].plot(y=['y','trailing'],figsize=(12,10))"
   ]
  },
  {
   "cell_type": "markdown",
   "id": "fd3615f2",
   "metadata": {},
   "source": [
    "# 3，prophet 预测"
   ]
  },
  {
   "cell_type": "code",
   "execution_count": null,
   "id": "18b852b5",
   "metadata": {
    "scrolled": true
   },
   "outputs": [],
   "source": [
    "from prophet import Prophet\n",
    "model = Prophet(changepoint_prior_scale=0.1,\n",
    "                seasonality_mode='multiplicative',\n",
    "                seasonality_prior_scale=10,\n",
    "                changepoint_range = 0.9)\n",
    "model = model.fit(object_df)\n",
    "future = model.make_future_dataframe(periods=120)\n",
    "forecast = model.predict(future)\n",
    "model.plot(forecast)\n",
    "# model.plot(forecast.iloc[-120:,])"
   ]
  },
  {
   "cell_type": "code",
   "execution_count": null,
   "id": "9ff13e15",
   "metadata": {
    "scrolled": true
   },
   "outputs": [],
   "source": [
    "# from prophet.diagnostics import cross_validation\n",
    "# df_cv = cross_validation(model, initial='500 days', period='60 days', horizon = '60 days')\n",
    "# from prophet.diagnostics import performance_metrics\n",
    "# df_p = performance_metrics(df_cv, rolling_window=1)\n",
    "# df_p"
   ]
  },
  {
   "cell_type": "code",
   "execution_count": null,
   "id": "0406a450",
   "metadata": {},
   "outputs": [],
   "source": [
    "from prophet import Prophet\n",
    "model = Prophet()\n",
    "model = model.fit(object_df)\n",
    "future = model.make_future_dataframe(periods=120)\n",
    "forecast = model.predict(future)\n",
    "model.plot(forecast)"
   ]
  },
  {
   "cell_type": "code",
   "execution_count": null,
   "id": "8dc02981",
   "metadata": {},
   "outputs": [],
   "source": []
  }
 ],
 "metadata": {
  "kernelspec": {
   "display_name": "Python 3 (ipykernel)",
   "language": "python",
   "name": "python3"
  },
  "language_info": {
   "codemirror_mode": {
    "name": "ipython",
    "version": 3
   },
   "file_extension": ".py",
   "mimetype": "text/x-python",
   "name": "python",
   "nbconvert_exporter": "python",
   "pygments_lexer": "ipython3",
   "version": "3.9.12"
  }
 },
 "nbformat": 4,
 "nbformat_minor": 5
}
